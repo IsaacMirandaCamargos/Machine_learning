{
 "cells": [
  {
   "cell_type": "markdown",
   "id": "1e418cea",
   "metadata": {},
   "source": [
    "<h1 align=\"center\">Little resume about commands in sklearn</h1>"
   ]
  },
  {
   "cell_type": "markdown",
   "id": "4298a1ca",
   "metadata": {},
   "source": [
    "<h3> General workflow of Machine learning model </h3>"
   ]
  },
  {
   "cell_type": "markdown",
   "id": "206b4fb1",
   "metadata": {},
   "source": [
    "\n",
    "\n",
    "```\n",
    "# IMPORTS\n",
    "from sklearn.module import Model\n",
    "\n",
    "# STRUCTURE\n",
    "model = Model()\n",
    "\n",
    "# TRAINING\n",
    "model.fit(X, y)\n",
    "\n",
    "# PREDICTING\n",
    "y_pred = model.predict(X_new)\n",
    "```\n"
   ]
  },
  {
   "cell_type": "markdown",
   "id": "af207c29",
   "metadata": {},
   "source": [
    "<h3> Machine learning Classification model </h3>"
   ]
  },
  {
   "cell_type": "markdown",
   "id": "c318817d",
   "metadata": {},
   "source": [
    "```\n",
    "# IMPORTS\n",
    "from sklearn.model_selection import train_test_split\n",
    "from sklearn.module import Model\n",
    "\n",
    "# STRUCTURE\n",
    "X_train, X_test, y_train, y_test =train_test_split(X, y, test_size=0.2, random_state=42, stratify=y)\n",
    "model = Model()\n",
    "\n",
    "# TRAINING\n",
    "model.fit(X_train, y_train)\n",
    "\n",
    "# TESTING\n",
    "score = model.score(X_test, y_test)\n",
    "\n",
    "# PREDICTING\n",
    "y_pred = model.predict(X_new)\n",
    "```"
   ]
  },
  {
   "cell_type": "markdown",
   "id": "cd826ab1",
   "metadata": {},
   "source": [
    "**stratify** is used to divide the data in equal percentage, corresponding with the percentage of the real data"
   ]
  },
  {
   "cell_type": "markdown",
   "id": "8e8a1b8d",
   "metadata": {},
   "source": []
  },
  {
   "cell_type": "code",
   "execution_count": null,
   "id": "0244d330",
   "metadata": {},
   "outputs": [],
   "source": []
  },
  {
   "cell_type": "code",
   "execution_count": null,
   "id": "0d8763a8",
   "metadata": {},
   "outputs": [],
   "source": []
  },
  {
   "cell_type": "code",
   "execution_count": null,
   "id": "30f34f99",
   "metadata": {},
   "outputs": [],
   "source": []
  },
  {
   "cell_type": "code",
   "execution_count": null,
   "id": "4db3f0b3",
   "metadata": {},
   "outputs": [],
   "source": []
  },
  {
   "cell_type": "code",
   "execution_count": null,
   "id": "4890685c",
   "metadata": {},
   "outputs": [],
   "source": []
  },
  {
   "cell_type": "code",
   "execution_count": null,
   "id": "fac7a6a5",
   "metadata": {},
   "outputs": [],
   "source": []
  },
  {
   "cell_type": "code",
   "execution_count": null,
   "id": "fb9a5713",
   "metadata": {},
   "outputs": [],
   "source": []
  },
  {
   "cell_type": "code",
   "execution_count": null,
   "id": "5d7a843e",
   "metadata": {},
   "outputs": [],
   "source": []
  },
  {
   "cell_type": "code",
   "execution_count": null,
   "id": "66e5bea5",
   "metadata": {},
   "outputs": [],
   "source": []
  }
 ],
 "metadata": {
  "kernelspec": {
   "display_name": "Python 3 (ipykernel)",
   "language": "python",
   "name": "python3"
  },
  "language_info": {
   "codemirror_mode": {
    "name": "ipython",
    "version": 3
   },
   "file_extension": ".py",
   "mimetype": "text/x-python",
   "name": "python",
   "nbconvert_exporter": "python",
   "pygments_lexer": "ipython3",
   "version": "3.10.4"
  }
 },
 "nbformat": 4,
 "nbformat_minor": 5
}
