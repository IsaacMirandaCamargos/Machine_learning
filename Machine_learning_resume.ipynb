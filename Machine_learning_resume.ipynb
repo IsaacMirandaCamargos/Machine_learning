{
 "cells": [
  {
   "cell_type": "markdown",
   "id": "1e418cea",
   "metadata": {},
   "source": [
    "<h1 align=\"center\">Little resume about commands in sklearn</h1>"
   ]
  },
  {
   "cell_type": "markdown",
   "id": "4298a1ca",
   "metadata": {},
   "source": [
    "<h3> General workflow of Machine learning model </h3>"
   ]
  },
  {
   "cell_type": "markdown",
   "id": "206b4fb1",
   "metadata": {},
   "source": [
    "\n",
    "\n",
    "```\n",
    "# IMPORTS\n",
    "from sklearn.module import Model\n",
    "\n",
    "# STRUCTURE\n",
    "model = Model()\n",
    "\n",
    "# TRAINING\n",
    "model.fit(X, y)\n",
    "\n",
    "# PREDICTING\n",
    "y_pred = model.predict(X_new)\n",
    "```\n"
   ]
  },
  {
   "cell_type": "markdown",
   "id": "af207c29",
   "metadata": {},
   "source": [
    "<h3> Workflow of Machine learning Classification model </h3>"
   ]
  },
  {
   "cell_type": "markdown",
   "id": "c318817d",
   "metadata": {},
   "source": [
    "```\n",
    "# IMPORTS\n",
    "from sklearn.model_selection import train_test_split\n",
    "from sklearn.module import Model\n",
    "\n",
    "# STRUCTURE\n",
    "X_train, X_test, y_train, y_test =train_test_split(X, y, test_size=0.2, random_state=42, stratify=y)\n",
    "model = Model()\n",
    "\n",
    "# TRAINING\n",
    "model.fit(X_train, y_train)\n",
    "\n",
    "# TESTING\n",
    "score = model.score(X_test, y_test)\n",
    "\n",
    "# PREDICTING\n",
    "y_pred = model.predict(X_new)\n",
    "```"
   ]
  },
  {
   "cell_type": "markdown",
   "id": "cd826ab1",
   "metadata": {},
   "source": [
    "**stratify** is used to divide the data in equal percentage, corresponding with the percentage of the real data"
   ]
  }
 ],
 "metadata": {
  "kernelspec": {
   "display_name": "Python 3 (ipykernel)",
   "language": "python",
   "name": "python3"
  },
  "language_info": {
   "codemirror_mode": {
    "name": "ipython",
    "version": 3
   },
   "file_extension": ".py",
   "mimetype": "text/x-python",
   "name": "python",
   "nbconvert_exporter": "python",
   "pygments_lexer": "ipython3",
   "version": "3.10.4"
  },
  "vscode": {
   "interpreter": {
    "hash": "881670f81ca901abbd7ebbedda0256a348e27f7fdf8f721595c61f2a6a1ea03e"
   }
  }
 },
 "nbformat": 4,
 "nbformat_minor": 5
}
